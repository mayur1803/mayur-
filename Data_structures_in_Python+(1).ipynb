{
  "cells": [
    {
      "cell_type": "markdown",
      "metadata": {
        "id": "view-in-github",
        "colab_type": "text"
      },
      "source": [
        "<a href=\"https://colab.research.google.com/github/mayur1803/mayur-/blob/master/Data_structures_in_Python%2B(1).ipynb\" target=\"_parent\"><img src=\"https://colab.research.google.com/assets/colab-badge.svg\" alt=\"Open In Colab\"/></a>"
      ]
    },
    {
      "cell_type": "markdown",
      "metadata": {
        "id": "1h__F05n0cYN"
      },
      "source": [
        "# Practice Exercise"
      ]
    },
    {
      "cell_type": "markdown",
      "metadata": {
        "id": "qEzf6y1409zw"
      },
      "source": [
        "Question 1: Print a random integer between 100 and 135"
      ]
    },
    {
      "cell_type": "code",
      "execution_count": 6,
      "metadata": {
        "colab": {
          "base_uri": "https://localhost:8080/"
        },
        "id": "yisQGrBd0bzN",
        "outputId": "6778a663-7396-4156-f237-e83720a8549c"
      },
      "outputs": [
        {
          "output_type": "stream",
          "name": "stdout",
          "text": [
            "21\n",
            "93\n",
            "14\n",
            "44\n",
            "86\n",
            "5\n",
            "58\n",
            "74\n",
            "23\n",
            "11\n"
          ]
        }
      ],
      "source": [
        "# Import required libraries:\n",
        "import random\n",
        "\n",
        "for i in range(10):\n",
        "  print(random.randint(1, 100))\n",
        "# Print a random integer in the given range:"
      ]
    },
    {
      "cell_type": "markdown",
      "metadata": {
        "id": "vxC8oK_G1w_O"
      },
      "source": [
        "Question 2: Create a list consisting of first 10 even numbers."
      ]
    },
    {
      "cell_type": "code",
      "execution_count": null,
      "metadata": {
        "id": "CQ9oPVOf1UZB"
      },
      "outputs": [],
      "source": [
        "# Create a list according to the given condition:\n",
        "list1 = [2, 4, 6, 8, 10, 12, 14, 16, 18, 20]"
      ]
    },
    {
      "cell_type": "markdown",
      "metadata": {
        "id": "GP-3AHb52piM"
      },
      "source": [
        "Question 3: Create a list in the following manner: [birthyear, firstname, birthdate, lastname]"
      ]
    },
    {
      "cell_type": "code",
      "execution_count": 7,
      "metadata": {
        "id": "D3bKLI8z2lSx"
      },
      "outputs": [],
      "source": [
        "# Create a list according to the given condition:\n",
        "\n",
        "Data_list = [2000, 'Mayur','18 March', 'Pawar']"
      ]
    },
    {
      "cell_type": "markdown",
      "metadata": {
        "id": "iKABjdd73bSO"
      },
      "source": [
        "Question 4: Create a nested list which consist of 2 students and their scores in mathematics and english:\n",
        "\n",
        "Students: Alex and Cody\n",
        "\n",
        "Alex scores 97 and 95 in mathematics and english respectively,\n",
        "\n",
        "Cody scores 89 and 92 in mathematics and english respectively.\n",
        "\n",
        "The list should be such that it first stores the name of students followed by the subjects and then their scores in nested lists."
      ]
    },
    {
      "cell_type": "code",
      "execution_count": 8,
      "metadata": {
        "id": "oyaA3mz73Zds"
      },
      "outputs": [],
      "source": [
        "# Create a list according to the given condition:\n",
        "list2 = [['Alex',\"Cody\"],[\"Mathematics\",\"English\"],[97,95],[89,92]]"
      ]
    },
    {
      "cell_type": "markdown",
      "metadata": {
        "id": "jycP6fUg4njv"
      },
      "source": [
        "Question 5: Given below is a list, find out whether is has the letter 'k' in it and print the result as true or false."
      ]
    },
    {
      "cell_type": "code",
      "execution_count": 14,
      "metadata": {
        "colab": {
          "base_uri": "https://localhost:8080/"
        },
        "id": "r-05TqnN4hub",
        "outputId": "91179ab8-fed6-4250-f1b7-4d1e57f587f2"
      },
      "outputs": [
        {
          "output_type": "stream",
          "name": "stdout",
          "text": [
            "True\n"
          ]
        }
      ],
      "source": [
        "# Given below is a list:\n",
        "list3=[1,2,'r',7,'k',6,'o','h','d',5,9]\n",
        "\n",
        "# Define the character you are searching for:\n",
        "int = 7\n",
        "print(int in list3)\n",
        "# print the result:"
      ]
    },
    {
      "cell_type": "markdown",
      "metadata": {
        "id": "NT-4hspO55TH"
      },
      "source": [
        "Question 6: In the tuple given below, print the 3rd element."
      ]
    },
    {
      "cell_type": "code",
      "execution_count": 15,
      "metadata": {
        "colab": {
          "base_uri": "https://localhost:8080/"
        },
        "id": "J-CCGlN56gea",
        "outputId": "fae2b69b-db17-4924-90fe-0658c4abbff8"
      },
      "outputs": [
        {
          "output_type": "stream",
          "name": "stdout",
          "text": [
            "world\n"
          ]
        }
      ],
      "source": [
        "# Given below is the tuple:\n",
        "tuple1=(1,'hello','world','567')\n",
        "print(tuple1[2])\n",
        "# Print the 3rd element:"
      ]
    },
    {
      "cell_type": "markdown",
      "metadata": {
        "id": "wx6WT1K255WN"
      },
      "source": [
        "Question 7: Given below is a tuple. Sort the tuple and print the result."
      ]
    },
    {
      "cell_type": "code",
      "execution_count": 17,
      "metadata": {
        "colab": {
          "base_uri": "https://localhost:8080/"
        },
        "id": "VWmBEUud7MQ4",
        "outputId": "5513f34d-d292-4950-c0d0-bb800411e6eb"
      },
      "outputs": [
        {
          "output_type": "stream",
          "name": "stdout",
          "text": [
            "[1, 3, 25, 54, 67, 100]\n"
          ]
        }
      ],
      "source": [
        "# Given below is the tuple:\n",
        "tuple2=(1,25,67,100,3,54)\n",
        "\n",
        "# Sort the tuple:\n",
        "sort_tuple = sorted(tuple2)\n",
        "print(sort_tuple)\n",
        "# Print the result:"
      ]
    },
    {
      "cell_type": "markdown",
      "metadata": {
        "id": "nSSJcxQJ55ZU"
      },
      "source": [
        "Question 8: Given below is a list, convert into a set and print the output also print the length of the set."
      ]
    },
    {
      "cell_type": "code",
      "execution_count": 19,
      "metadata": {
        "colab": {
          "base_uri": "https://localhost:8080/"
        },
        "id": "m8CcJfyB87eP",
        "outputId": "d304c44d-e9f4-4316-9a20-5d341bf47da2"
      },
      "outputs": [
        {
          "output_type": "stream",
          "name": "stdout",
          "text": [
            "{1, 2, 3, 4, 5, 6, 7}\n",
            "7\n"
          ]
        }
      ],
      "source": [
        "# Given below is the list:\n",
        "list4=[1,2,4,6,3,2,5,4,7,4,6,5,3,2,2,1]\n",
        "\n",
        "# Convert the list into set:\n",
        "set1 = set(list4)\n",
        "# Print the result:\n",
        "print(set1)\n",
        "# Print the length of the set:\n",
        "print(len(set1))"
      ]
    },
    {
      "cell_type": "markdown",
      "metadata": {
        "id": "lbbGNfhh55cy"
      },
      "source": [
        "Question 9: Given below are two sets, perform the operations given below:\n",
        "1. Print their union\n",
        "2. Print their intersection\n",
        "3. Print their difference\n",
        "4. Print their symmetric difference"
      ]
    },
    {
      "cell_type": "code",
      "execution_count": 26,
      "metadata": {
        "colab": {
          "base_uri": "https://localhost:8080/"
        },
        "id": "04IIzknZ9-ZP",
        "outputId": "bd6e1f30-7595-4155-8626-498c1e60496f"
      },
      "outputs": [
        {
          "output_type": "stream",
          "name": "stdout",
          "text": [
            "{1, 2, 3, 4, 5, 6, 7, 8, 9}\n",
            "{2, 3, 5}\n",
            "{1, 6, 7}\n",
            "{1, 4, 6, 7, 8, 9}\n"
          ]
        }
      ],
      "source": [
        "# Given below are two sets:\n",
        "a={1,2,3,5,6,7}\n",
        "b={4,5,8,9,2,3}\n",
        "\n",
        "# Print their union:\n",
        "unity = a.union(b)\n",
        "print(unity)\n",
        "# Print their intersection:\n",
        "intersec = b.intersection(a)\n",
        "print(intersec)\n",
        "# Print their difference:\n",
        "diff = a.difference(b)\n",
        "print(diff)\n",
        "\n",
        "# Print their symmetric difference:\n",
        "symm = a.symmetric_difference(b)\n",
        "print(symm)"
      ]
    },
    {
      "cell_type": "markdown",
      "metadata": {
        "id": "aNFcEjza55fq"
      },
      "source": [
        "Question 10: Create a dictionary that stores the names and roll numbers of 5 students as given below:\n",
        "1. Sam, 21\n",
        "2. Cody, 12\n",
        "3. Addy, 3\n",
        "4. Zach, 45\n",
        "5. Amy, 6"
      ]
    },
    {
      "cell_type": "code",
      "execution_count": 39,
      "metadata": {
        "colab": {
          "base_uri": "https://localhost:8080/"
        },
        "id": "Wf2kp70A_IfD",
        "outputId": "0d9c7e6e-9a36-4d31-b836-eb5d1138ac44"
      },
      "outputs": [
        {
          "output_type": "stream",
          "name": "stdout",
          "text": [
            "dict_values([21, 12, 3, 45, 6])\n"
          ]
        }
      ],
      "source": [
        "# Create a dictionary:\n",
        "D = {\"Sam\":21, \"Cody\":12, \"Addy\":3,\"Zach\":45,\"Amy\":6}\n",
        "# Print the result:\n",
        "print(D.values())"
      ]
    },
    {
      "cell_type": "markdown",
      "metadata": {
        "id": "iFKlCBIA5WjL"
      },
      "source": [
        "Question 11: Due to admission of new students the roll number of zach has changed from 45 to 47. Make the required changes and print the new dictionary."
      ]
    },
    {
      "cell_type": "code",
      "execution_count": 42,
      "metadata": {
        "colab": {
          "base_uri": "https://localhost:8080/"
        },
        "id": "rE_fsHnYEZFk",
        "outputId": "5c037e97-0d84-47f5-fd31-e67e84dc7fe1"
      },
      "outputs": [
        {
          "output_type": "stream",
          "name": "stdout",
          "text": [
            "47\n"
          ]
        }
      ],
      "source": [
        "# Update the roll number:\n",
        "D[\"Zach\"] = 47\n",
        "print(D[\"Zach\"])\n",
        "# Print the new dictionary:"
      ]
    },
    {
      "cell_type": "markdown",
      "metadata": {
        "id": "MyrZDHMl55ir"
      },
      "source": [
        "Question 12: Sort the dictionary according to roll number.\n"
      ]
    },
    {
      "cell_type": "code",
      "execution_count": 43,
      "metadata": {
        "colab": {
          "base_uri": "https://localhost:8080/"
        },
        "id": "NrdUqjkvEpRC",
        "outputId": "cdded067-f0bc-4e1d-c435-046424ff6d9e"
      },
      "outputs": [
        {
          "output_type": "stream",
          "name": "stdout",
          "text": [
            "[3, 6, 12, 21, 47]\n"
          ]
        }
      ],
      "source": [
        "# Sort and print the students roll number wise in ascending order:\n",
        "\n",
        "roll_number = D.values()\n",
        "print(sorted(roll_number))"
      ]
    }
  ],
  "metadata": {
    "colab": {
      "provenance": [],
      "collapsed_sections": [],
      "include_colab_link": true
    },
    "kernelspec": {
      "display_name": "Python 3",
      "language": "python",
      "name": "python3"
    },
    "language_info": {
      "codemirror_mode": {
        "name": "ipython",
        "version": 3
      },
      "file_extension": ".py",
      "mimetype": "text/x-python",
      "name": "python",
      "nbconvert_exporter": "python",
      "pygments_lexer": "ipython3",
      "version": "3.7.4"
    }
  },
  "nbformat": 4,
  "nbformat_minor": 0
}